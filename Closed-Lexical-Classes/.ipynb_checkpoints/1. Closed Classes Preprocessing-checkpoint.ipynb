{
 "cells": [
  {
   "cell_type": "markdown",
   "metadata": {},
   "source": [
    "# Goal: Investigate birth and death among closed classes of words\n",
    "Load and Pre-Process   \n",
    "1. Load all the gzipped ngrams data into the notebook  \n",
    "2. Pre-process Google Ngrams database so that there is only the following [Google Tags](https://books.google.com/ngrams/info)\n",
    "    - _PRON_\tpronoun\n",
    "    - _DET_\tdeterminer or article\n",
    "    - _ADP_\tan adposition: either a preposition or a postposition\n",
    "    - _CONJ_\tconjunction\n",
    "    - _PRT_\tparticle  \n",
    "    (These tags can only be appended to a word (she_PRON), no stand alones (\\_PRON\\_))\n",
    "3. Save as JSON file  "
   ]
  },
  {
   "cell_type": "markdown",
   "metadata": {},
   "source": [
    "## Load and pre-process "
   ]
  },
  {
   "cell_type": "code",
   "execution_count": 1,
   "metadata": {},
   "outputs": [],
   "source": [
    "import os\n",
    "import gzip\n",
    "import re\n",
    "import json\n",
    "from tqdm import tqdm\n",
    "#for unigram_tests filtering (words that represent phonemes which are not in the English set are not allowed)\n",
    "from unidecode import unidecode\n",
    "#For the Google POS tagging\n",
    "underscore = re.compile('_{1}')"
   ]
  },
  {
   "cell_type": "code",
   "execution_count": 2,
   "metadata": {},
   "outputs": [],
   "source": [
    "import string\n",
    "PUNCTUATION = set(char for char in string.punctuation).union({'“','”'})\n",
    "DIGITS = set(string.digits)\n",
    "VOWELS = set(\"aeiouyAEIOUY\")\n",
    "#Excluding '_' (underscore) from DASHES precludes the tagged 1grams \"_NOUN\", add it to also include the tagged 1grams\n",
    "DASHES = {'—','–','—','―','‒','-','_'}\n",
    "PUNCTUATION.difference_update(DASHES)\n",
    "STOPS = PUNCTUATION.union(DIGITS)\n",
    "GOOGLE_TAGS = {'PRON','DET','ADP','CONJ','PRT'}"
   ]
  },
  {
   "cell_type": "code",
   "execution_count": 3,
   "metadata": {},
   "outputs": [],
   "source": [
    "def open_gzip(directory,file_path):\n",
    "    with gzip.open(directory+file_path,'r') as f_in:\n",
    "        #Each row is in form: ngram TAB year, match_count, volume_count NEWLINE\n",
    "        return [x.decode('utf8').strip() for x in f_in.readlines()]"
   ]
  },
  {
   "cell_type": "code",
   "execution_count": 4,
   "metadata": {},
   "outputs": [],
   "source": [
    "def csv2tuple(string):\n",
    "    year,match_count,volume_count = tuple(string.split(','))\n",
    "    return int(year),int(match_count),int(volume_count)"
   ]
  },
  {
   "cell_type": "code",
   "execution_count": 5,
   "metadata": {},
   "outputs": [],
   "source": [
    "def save_json(dictionary,directory,file_path):\n",
    "    output = file_path+'.json'\n",
    "    if len(dictionary)>0:\n",
    "        with open(directory+output, 'w') as f_out:\n",
    "            json.dump(dictionary, f_out)\n",
    "        print('SAVED: ',output,len(dictionary))\n",
    "    else:\n",
    "        print('unigram dict empty',output)"
   ]
  },
  {
   "cell_type": "code",
   "execution_count": 6,
   "metadata": {},
   "outputs": [],
   "source": [
    "def unigram_tests(unigram):\n",
    "    #Checks each character in the unigram against the characters in the STOP set. (character level filtering) - no punctuation or digits allowed\n",
    "    if set(unigram).intersection(STOPS):\n",
    "        return False\n",
    "    \n",
    "    #must have a vowel (presupposes that it must also have a letter of the alphabet inside)\n",
    "    if not set(unigram).intersection(VOWELS):\n",
    "        return False #Rewrite the alphabet one, i think this is better\n",
    "    \n",
    "    #Words cannot start or end with dashes\n",
    "    if unigram[0] in DASHES or unigram[-1] in DASHES:\n",
    "        return False\n",
    "    \n",
    "    #Exclude words with more than one underscore, can make this != to only include tagged words\n",
    "    if len(underscore.findall(unigram))>1:\n",
    "        return False\n",
    "    \n",
    "    #must have 0 non-english letters\n",
    "    test = unidecode(unigram, errors='replace')\n",
    "    if test != unigram:\n",
    "        return False\n",
    "    \n",
    "    #Can implement more tests here if you need to do more filtering\n",
    "    \n",
    "    else:\n",
    "        return True"
   ]
  },
  {
   "cell_type": "code",
   "execution_count": 7,
   "metadata": {},
   "outputs": [],
   "source": [
    "def preprocess_ngrams(directory,file_path):\n",
    "    \n",
    "    rows = open_gzip(directory,file_path)\n",
    "    ngram_dict = dict()\n",
    "\n",
    "    #This implementation outputs {1gram:{year:match_count ...} ...}\n",
    "    #Each row is in form: ngram TAB year, match_count, volume_count TAB year, match_count, volume_count ... NEWLINE\n",
    "    for row in tqdm(rows):\n",
    "        #Thus we will first create columns in every row by splitting by the tabs\n",
    "        columns = row.split('\\t')\n",
    "        #unigram is the first entry, the rest of the entries are of the form (year,match_count,volume_count\\t) n times, where n is variable each line\n",
    "        unigram = columns[0]\n",
    "        if len(underscore.findall(unigram))==1: #One and only one underscore allowed\n",
    "            word_tag = underscore.split(unigram) # list of [word,tag]\n",
    "            #checks if tag is Google tag\n",
    "            if word_tag[1] in GOOGLE_TAGS:\n",
    "                #Removes the tag before processing unigram string\n",
    "                unigram = word_tag[0].lower().strip()+'_'+word_tag[1]\n",
    "                #This is the final check for lexemes\n",
    "                if unigram_tests(unigram):\n",
    "                    #Parse the new entry and create a dictionary of records in form {year:match_count}\n",
    "                    records = dict()\n",
    "                    #the first entry in columns is word so that is exluded\n",
    "                    for entry in columns[1:]:\n",
    "                        year,match_count,volume_count = csv2tuple(str(entry))\n",
    "                        if year>1800 and volume_count>1:\n",
    "                            records[year] = match_count\n",
    "\n",
    "                    #Modify the dictionary if new entry is already there, else just add it as a new unigram:records to the dict\n",
    "                    if unigram in ngram_dict.keys():\n",
    "                        #accessing the ngram dictionary and seeing if each year is present, if so add match count, else add a new record entry to the dictionary.\n",
    "                        for yr, match_ct in records.items(): #each record should be of the form {year, match_count}\n",
    "                            #If the year in the new record is in the dict for this 1gram, then find where it is.\n",
    "                            if yr in ngram_dict[unigram].keys():\n",
    "                                ngram_dict[unigram][yr] += match_ct\n",
    "                            else:\n",
    "                                #This just adds the record to the end, will need to sort later\n",
    "                                ngram_dict[unigram][yr] = match_ct\n",
    "                    else:\n",
    "                        ngram_dict[unigram] = records\n",
    "    return ngram_dict"
   ]
  },
  {
   "cell_type": "markdown",
   "metadata": {},
   "source": [
    "## Run Everything"
   ]
  },
  {
   "cell_type": "code",
   "execution_count": 8,
   "metadata": {
    "scrolled": true
   },
   "outputs": [
    {
     "name": "stderr",
     "output_type": "stream",
     "text": [
      "100%|████████████████████████████████████████████████████████████████████| 2396510/2396510 [00:09<00:00, 243740.11it/s]\n"
     ]
    },
    {
     "name": "stdout",
     "output_type": "stream",
     "text": [
      "unigram dict empty 1-00000-of-00024_CLOSED_CLASSES.json\n"
     ]
    },
    {
     "name": "stderr",
     "output_type": "stream",
     "text": [
      "100%|████████████████████████████████████████████████████████████████████| 3345476/3345476 [00:16<00:00, 207763.86it/s]\n"
     ]
    },
    {
     "name": "stdout",
     "output_type": "stream",
     "text": [
      "unigram dict empty 1-00001-of-00024_CLOSED_CLASSES.json\n"
     ]
    },
    {
     "name": "stderr",
     "output_type": "stream",
     "text": [
      "100%|████████████████████████████████████████████████████████████████████| 3315859/3315859 [00:14<00:00, 221132.15it/s]\n"
     ]
    },
    {
     "name": "stdout",
     "output_type": "stream",
     "text": [
      "unigram dict empty 1-00002-of-00024_CLOSED_CLASSES.json\n"
     ]
    },
    {
     "name": "stderr",
     "output_type": "stream",
     "text": [
      "100%|████████████████████████████████████████████████████████████████████| 3081673/3081673 [00:14<00:00, 215393.55it/s]\n"
     ]
    },
    {
     "name": "stdout",
     "output_type": "stream",
     "text": [
      "unigram dict empty 1-00003-of-00024_CLOSED_CLASSES.json\n"
     ]
    },
    {
     "name": "stderr",
     "output_type": "stream",
     "text": [
      "100%|████████████████████████████████████████████████████████████████████| 3377697/3377697 [00:15<00:00, 215747.88it/s]\n"
     ]
    },
    {
     "name": "stdout",
     "output_type": "stream",
     "text": [
      "unigram dict empty 1-00004-of-00024_CLOSED_CLASSES.json\n"
     ]
    },
    {
     "name": "stderr",
     "output_type": "stream",
     "text": [
      "100%|████████████████████████████████████████████████████████████████████| 3375570/3375570 [00:15<00:00, 220236.66it/s]\n"
     ]
    },
    {
     "name": "stdout",
     "output_type": "stream",
     "text": [
      "unigram dict empty 1-00005-of-00024_CLOSED_CLASSES.json\n"
     ]
    },
    {
     "name": "stderr",
     "output_type": "stream",
     "text": [
      "100%|████████████████████████████████████████████████████████████████████| 3103866/3103866 [00:17<00:00, 180476.58it/s]\n"
     ]
    },
    {
     "name": "stdout",
     "output_type": "stream",
     "text": [
      "SAVED:  1-00006-of-00024_CLOSED_CLASSES.json 16626\n"
     ]
    },
    {
     "name": "stderr",
     "output_type": "stream",
     "text": [
      "100%|████████████████████████████████████████████████████████████████████| 3384843/3384843 [00:20<00:00, 167463.95it/s]\n"
     ]
    },
    {
     "name": "stdout",
     "output_type": "stream",
     "text": [
      "SAVED:  1-00007-of-00024_CLOSED_CLASSES.json 9092\n"
     ]
    },
    {
     "name": "stderr",
     "output_type": "stream",
     "text": [
      "100%|████████████████████████████████████████████████████████████████████| 3408143/3408143 [00:19<00:00, 172041.88it/s]\n"
     ]
    },
    {
     "name": "stdout",
     "output_type": "stream",
     "text": [
      "SAVED:  1-00008-of-00024_CLOSED_CLASSES.json 2891\n"
     ]
    },
    {
     "name": "stderr",
     "output_type": "stream",
     "text": [
      "100%|████████████████████████████████████████████████████████████████████| 3109631/3109631 [00:17<00:00, 179396.84it/s]\n"
     ]
    },
    {
     "name": "stdout",
     "output_type": "stream",
     "text": [
      "SAVED:  1-00009-of-00024_CLOSED_CLASSES.json 4368\n"
     ]
    },
    {
     "name": "stderr",
     "output_type": "stream",
     "text": [
      "100%|████████████████████████████████████████████████████████████████████| 3365531/3365531 [00:20<00:00, 167540.74it/s]\n"
     ]
    },
    {
     "name": "stdout",
     "output_type": "stream",
     "text": [
      "SAVED:  1-00010-of-00024_CLOSED_CLASSES.json 12317\n"
     ]
    },
    {
     "name": "stderr",
     "output_type": "stream",
     "text": [
      "100%|████████████████████████████████████████████████████████████████████| 3386487/3386487 [00:19<00:00, 172723.24it/s]\n"
     ]
    },
    {
     "name": "stdout",
     "output_type": "stream",
     "text": [
      "SAVED:  1-00011-of-00024_CLOSED_CLASSES.json 4995\n"
     ]
    },
    {
     "name": "stderr",
     "output_type": "stream",
     "text": [
      "100%|████████████████████████████████████████████████████████████████████| 3135145/3135145 [00:19<00:00, 163792.52it/s]\n"
     ]
    },
    {
     "name": "stdout",
     "output_type": "stream",
     "text": [
      "SAVED:  1-00012-of-00024_CLOSED_CLASSES.json 12206\n"
     ]
    },
    {
     "name": "stderr",
     "output_type": "stream",
     "text": [
      "100%|████████████████████████████████████████████████████████████████████| 3402459/3402459 [00:19<00:00, 177097.24it/s]\n"
     ]
    },
    {
     "name": "stdout",
     "output_type": "stream",
     "text": [
      "SAVED:  1-00013-of-00024_CLOSED_CLASSES.json 3739\n"
     ]
    },
    {
     "name": "stderr",
     "output_type": "stream",
     "text": [
      "100%|████████████████████████████████████████████████████████████████████| 3392643/3392643 [00:20<00:00, 164729.53it/s]\n"
     ]
    },
    {
     "name": "stdout",
     "output_type": "stream",
     "text": [
      "SAVED:  1-00014-of-00024_CLOSED_CLASSES.json 15740\n"
     ]
    },
    {
     "name": "stderr",
     "output_type": "stream",
     "text": [
      "100%|████████████████████████████████████████████████████████████████████| 3100658/3100658 [00:19<00:00, 161272.91it/s]\n"
     ]
    },
    {
     "name": "stdout",
     "output_type": "stream",
     "text": [
      "SAVED:  1-00015-of-00024_CLOSED_CLASSES.json 13055\n"
     ]
    },
    {
     "name": "stderr",
     "output_type": "stream",
     "text": [
      "100%|████████████████████████████████████████████████████████████████████| 3375649/3375649 [00:30<00:00, 110347.49it/s]\n"
     ]
    },
    {
     "name": "stdout",
     "output_type": "stream",
     "text": [
      "SAVED:  1-00016-of-00024_CLOSED_CLASSES.json 123093\n"
     ]
    },
    {
     "name": "stderr",
     "output_type": "stream",
     "text": [
      "100%|████████████████████████████████████████████████████████████████████| 3403219/3403219 [00:21<00:00, 154764.93it/s]\n"
     ]
    },
    {
     "name": "stdout",
     "output_type": "stream",
     "text": [
      "SAVED:  1-00017-of-00024_CLOSED_CLASSES.json 20180\n"
     ]
    },
    {
     "name": "stderr",
     "output_type": "stream",
     "text": [
      "100%|████████████████████████████████████████████████████████████████████| 3118263/3118263 [00:19<00:00, 156095.47it/s]\n"
     ]
    },
    {
     "name": "stdout",
     "output_type": "stream",
     "text": [
      "SAVED:  1-00018-of-00024_CLOSED_CLASSES.json 36568\n"
     ]
    },
    {
     "name": "stderr",
     "output_type": "stream",
     "text": [
      "100%|████████████████████████████████████████████████████████████████████| 3384057/3384057 [00:21<00:00, 156585.45it/s]\n"
     ]
    },
    {
     "name": "stdout",
     "output_type": "stream",
     "text": [
      "SAVED:  1-00019-of-00024_CLOSED_CLASSES.json 72093\n"
     ]
    },
    {
     "name": "stderr",
     "output_type": "stream",
     "text": [
      "100%|████████████████████████████████████████████████████████████████████| 3427775/3427775 [00:21<00:00, 159520.42it/s]\n"
     ]
    },
    {
     "name": "stdout",
     "output_type": "stream",
     "text": [
      "SAVED:  1-00020-of-00024_CLOSED_CLASSES.json 77955\n"
     ]
    },
    {
     "name": "stderr",
     "output_type": "stream",
     "text": [
      "100%|████████████████████████████████████████████████████████████████████| 3071926/3071926 [00:17<00:00, 173226.80it/s]\n"
     ]
    },
    {
     "name": "stdout",
     "output_type": "stream",
     "text": [
      "SAVED:  1-00021-of-00024_CLOSED_CLASSES.json 41723\n"
     ]
    },
    {
     "name": "stderr",
     "output_type": "stream",
     "text": [
      "100%|████████████████████████████████████████████████████████████████████| 3467821/3467821 [00:19<00:00, 175427.92it/s]\n"
     ]
    },
    {
     "name": "stdout",
     "output_type": "stream",
     "text": [
      "SAVED:  1-00022-of-00024_CLOSED_CLASSES.json 33454\n"
     ]
    },
    {
     "name": "stderr",
     "output_type": "stream",
     "text": [
      "100%|████████████████████████████████████████████████████████████████████| 4149670/4149670 [00:30<00:00, 137671.85it/s]\n"
     ]
    },
    {
     "name": "stdout",
     "output_type": "stream",
     "text": [
      "SAVED:  1-00023-of-00024_CLOSED_CLASSES.json 122872\n",
      "Wall time: 17min 52s\n"
     ]
    }
   ],
   "source": [
    "%%time\n",
    "directory = '../Ngrams/unigram_data/'\n",
    "files = os.listdir(directory)\n",
    "for file_path in files:\n",
    "    if '.gz' in file_path:\n",
    "        ngram_dict = preprocess_ngrams(directory,file_path)\n",
    "        save_json(ngram_dict,directory,file_path[:-3]+'_CLOSED_CLASSES')\n",
    "        del ngram_dict #This allows the next loop to start with the original amount of memory, not twice the amount"
   ]
  }
 ],
 "metadata": {
  "kernelspec": {
   "display_name": "Python [conda env:evol-ling]",
   "language": "python",
   "name": "conda-env-evol-ling-py"
  },
  "language_info": {
   "codemirror_mode": {
    "name": "ipython",
    "version": 3
   },
   "file_extension": ".py",
   "mimetype": "text/x-python",
   "name": "python",
   "nbconvert_exporter": "python",
   "pygments_lexer": "ipython3",
   "version": "3.9.7"
  }
 },
 "nbformat": 4,
 "nbformat_minor": 5
}
