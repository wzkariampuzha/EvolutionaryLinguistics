{
 "cells": [
  {
   "cell_type": "code",
   "execution_count": 1,
   "id": "2162b9b1",
   "metadata": {},
   "outputs": [],
   "source": [
    "import csv\n",
    "total_counts_file = './Ngrams/totalcounts-1'"
   ]
  },
  {
   "cell_type": "code",
   "execution_count": 2,
   "id": "81fcba02",
   "metadata": {},
   "outputs": [],
   "source": [
    "years = []\n",
    "unigram_count = []\n",
    "\n",
    "with open(total_counts_file) as f:\n",
    "    reader = csv.reader(f, delimiter='\\t')\n",
    "    for row in reader:\n",
    "        for i in range(1,len(row)-1):\n",
    "            year, match_count, page_count, volume_count = tuple(row[i].split(','))\n",
    "            years.append(int(year))\n",
    "            unigram_count.append(int(match_count))"
   ]
  },
  {
   "cell_type": "code",
   "execution_count": 3,
   "id": "5a63f1cf",
   "metadata": {},
   "outputs": [
    {
     "data": {
      "text/plain": [
       "529"
      ]
     },
     "execution_count": 3,
     "metadata": {},
     "output_type": "execute_result"
    }
   ],
   "source": [
    "len(unigram_count)"
   ]
  },
  {
   "cell_type": "code",
   "execution_count": 4,
   "id": "71379287",
   "metadata": {},
   "outputs": [
    {
     "data": {
      "text/plain": [
       "529"
      ]
     },
     "execution_count": 4,
     "metadata": {},
     "output_type": "execute_result"
    }
   ],
   "source": [
    "len(years)"
   ]
  },
  {
   "cell_type": "code",
   "execution_count": 5,
   "id": "b8ce88b6",
   "metadata": {},
   "outputs": [
    {
     "data": {
      "text/plain": [
       "1997515570677"
      ]
     },
     "execution_count": 5,
     "metadata": {},
     "output_type": "execute_result"
    }
   ],
   "source": [
    "#total count\n",
    "tc = sum(unigram_count)\n",
    "tc"
   ]
  },
  {
   "cell_type": "code",
   "execution_count": 6,
   "id": "70082b41",
   "metadata": {
    "scrolled": false
   },
   "outputs": [
    {
     "name": "stdout",
     "output_type": "stream",
     "text": [
      "Range is 1470 - 2019\n"
     ]
    }
   ],
   "source": [
    "print('Range is',years[0],'-',years[-1])"
   ]
  },
  {
   "cell_type": "code",
   "execution_count": 7,
   "id": "10860efb",
   "metadata": {},
   "outputs": [
    {
     "data": {
      "text/plain": [
       "1992852566267"
      ]
     },
     "execution_count": 7,
     "metadata": {},
     "output_type": "execute_result"
    }
   ],
   "source": [
    "#total count in the years 1800-2019\n",
    "tc18002019 = sum([unigram_count for year, unigram_count in zip(years, unigram_count) if year>=1800])\n",
    "tc18002019"
   ]
  },
  {
   "cell_type": "code",
   "execution_count": 8,
   "id": "a6a7b5ab",
   "metadata": {},
   "outputs": [
    {
     "name": "stdout",
     "output_type": "stream",
     "text": [
      "99.76655979665682 % of all unigrams in the corpus are found in the years 1800-2019\n"
     ]
    }
   ],
   "source": [
    "print(100*(tc18002019/tc),'% of all unigrams in the corpus are found in the years 1800-2019')"
   ]
  },
  {
   "cell_type": "code",
   "execution_count": 9,
   "id": "23954ff7",
   "metadata": {},
   "outputs": [
    {
     "name": "stdout",
     "output_type": "stream",
     "text": [
      "Lexemes in closed lexical classes composed 3.126006462018102e-05 % of all of the unigrams.\n"
     ]
    }
   ],
   "source": [
    "#622967 is the number of lexemes in the five closed lexical classes after preprocessing\n",
    "print('Lexemes in closed lexical classes composed',100*(622967/tc18002019),'% of all of the unigrams.')"
   ]
  },
  {
   "cell_type": "code",
   "execution_count": 10,
   "id": "0c536bbb",
   "metadata": {},
   "outputs": [],
   "source": [
    "import gzip\n",
    "def open_gzip(directory,file_path):\n",
    "    with gzip.open(directory+file_path,'r') as f_in:\n",
    "        rows = [x.decode('utf8').strip() for x in f_in.readlines()]\n",
    "    return rows"
   ]
  },
  {
   "cell_type": "code",
   "execution_count": 11,
   "id": "462a80ff",
   "metadata": {},
   "outputs": [],
   "source": [
    "def csv2tuple(string):\n",
    "    year,match_count,volume_count = tuple(string.split(','))\n",
    "    return int(year),int(match_count),int(volume_count)"
   ]
  },
  {
   "cell_type": "code",
   "execution_count": 12,
   "id": "18116ecc",
   "metadata": {},
   "outputs": [],
   "source": [
    "def readcolumns(columns):\n",
    "    #search backwards\n",
    "    for entry in reversed(columns):\n",
    "        year,match_count,volume_count = csv2tuple(str(entry))\n",
    "        if year>1800:\n",
    "            return True\n",
    "    return False"
   ]
  },
  {
   "cell_type": "code",
   "execution_count": 13,
   "id": "4856783c",
   "metadata": {
    "scrolled": true
   },
   "outputs": [
    {
     "name": "stderr",
     "output_type": "stream",
     "text": [
      "100%|██████████| 2396510/2396510 [00:07<00:00, 316131.09it/s]\n",
      "100%|██████████| 3100658/3100658 [00:11<00:00, 268154.90it/s]\n",
      "100%|██████████| 3109631/3109631 [00:11<00:00, 270260.07it/s]\n",
      "100%|██████████| 3365531/3365531 [00:12<00:00, 267466.56it/s]\n",
      "100%|██████████| 3467821/3467821 [00:13<00:00, 254514.77it/s]\n",
      "100%|██████████| 3384057/3384057 [00:13<00:00, 257299.81it/s]\n",
      "100%|██████████| 3375570/3375570 [00:10<00:00, 315267.05it/s]\n",
      "100%|██████████| 3103866/3103866 [00:10<00:00, 289334.93it/s]\n",
      "100%|██████████| 3071926/3071926 [00:12<00:00, 248518.72it/s]\n",
      "100%|██████████| 3402459/3402459 [00:13<00:00, 251858.31it/s]\n",
      "100%|██████████| 3375649/3375649 [00:13<00:00, 242482.63it/s]\n",
      "100%|██████████| 3081673/3081673 [00:10<00:00, 286394.18it/s]\n",
      "100%|██████████| 3377697/3377697 [00:11<00:00, 300581.94it/s]\n",
      "100%|██████████| 3118263/3118263 [00:12<00:00, 251546.52it/s]\n",
      "100%|██████████| 4149670/4149670 [00:16<00:00, 258686.08it/s]\n",
      "100%|██████████| 1/1 [00:00<00:00,  7.54it/s]\n",
      "100%|██████████| 3386487/3386487 [00:12<00:00, 266917.55it/s]\n",
      "100%|██████████| 3408143/3408143 [00:13<00:00, 259949.66it/s]\n",
      "100%|██████████| 3392643/3392643 [00:12<00:00, 262238.81it/s]\n",
      "100%|██████████| 3345476/3345476 [00:12<00:00, 275677.18it/s]\n",
      "100%|██████████| 3315859/3315859 [00:11<00:00, 292815.36it/s]\n",
      "100%|██████████| 3403219/3403219 [00:13<00:00, 247397.42it/s]\n",
      "100%|██████████| 3135145/3135145 [00:11<00:00, 270489.37it/s]\n",
      "100%|██████████| 3427775/3427775 [00:14<00:00, 235436.35it/s]\n",
      "100%|██████████| 3384843/3384843 [00:15<00:00, 225609.80it/s]"
     ]
    },
    {
     "name": "stdout",
     "output_type": "stream",
     "text": [
      "CPU times: user 10min 3s, sys: 1min 21s, total: 11min 25s\n",
      "Wall time: 11min 48s\n"
     ]
    },
    {
     "name": "stderr",
     "output_type": "stream",
     "text": [
      "\n"
     ]
    }
   ],
   "source": [
    "%%time\n",
    "import os\n",
    "from tqdm import tqdm\n",
    "directory = './Ngrams/'\n",
    "files = os.listdir(directory)\n",
    "ngrams = list()\n",
    "i=0\n",
    "for file_path in files:\n",
    "    if '.gz' in file_path:\n",
    "        #ngrams.update([row.split('\\t')[0] for row in open_gzip(directory,file_path)])\n",
    "        #num_ngrams+=len(open_gzip(directory,file_path))\n",
    "        rows = open_gzip(directory,file_path)\n",
    "        for row in tqdm(rows):\n",
    "            columns = row.split('\\t')\n",
    "            #This implementation uses {1gram:{year:match_count ...} ...}\n",
    "            if readcolumns(columns[1:]):\n",
    "                ngrams.append(columns[0])\n",
    "        print(file_path)"
   ]
  },
  {
   "cell_type": "code",
   "execution_count": null,
   "id": "d29d5da0",
   "metadata": {},
   "outputs": [
    {
     "name": "stderr",
     "output_type": "stream",
     "text": [
      "100%|██████████| 2396510/2396510 [00:18<00:00, 127788.61it/s]\n",
      "100%|██████████| 3100658/3100658 [00:16<00:00, 189590.10it/s]\n",
      "100%|██████████| 3109631/3109631 [00:12<00:00, 242388.49it/s]\n",
      "100%|██████████| 3365531/3365531 [00:14<00:00, 233432.03it/s]\n",
      "100%|██████████| 3467821/3467821 [00:14<00:00, 231814.73it/s]\n",
      "100%|██████████| 3384057/3384057 [00:14<00:00, 234985.53it/s]\n",
      "100%|██████████| 3375570/3375570 [00:12<00:00, 263824.66it/s]\n",
      "100%|██████████| 3103866/3103866 [00:11<00:00, 260240.60it/s]\n",
      "100%|██████████| 3071926/3071926 [00:14<00:00, 215643.76it/s]\n",
      "100%|██████████| 3402459/3402459 [00:14<00:00, 236334.72it/s]\n",
      "100%|██████████| 3375649/3375649 [00:14<00:00, 225110.26it/s]\n",
      "100%|██████████| 3081673/3081673 [00:12<00:00, 239837.17it/s]\n",
      "100%|██████████| 3377697/3377697 [00:19<00:00, 172218.23it/s]\n",
      "100%|██████████| 3118263/3118263 [00:14<00:00, 221644.75it/s]\n",
      "100%|██████████| 4149670/4149670 [00:19<00:00, 214486.03it/s]\n",
      "100%|██████████| 1/1 [00:00<00:00,  6.55it/s]\n",
      "100%|██████████| 3386487/3386487 [00:47<00:00, 70942.96it/s] \n",
      "  0%|          | 16503/3408143 [00:00<00:59, 56917.09it/s]"
     ]
    }
   ],
   "source": [
    "%%time\n",
    "import os\n",
    "from tqdm import tqdm\n",
    "directory = './Ngrams/'\n",
    "files = os.listdir(directory)\n",
    "ngrams = set()\n",
    "for file_path in files:\n",
    "    if '.gz' in file_path:\n",
    "        #ngrams.update([row.split('\\t')[0] for row in open_gzip(directory,file_path)])\n",
    "        #num_ngrams+=len(open_gzip(directory,file_path))\n",
    "        rows = open_gzip(directory,file_path)\n",
    "        for row in tqdm(rows):\n",
    "            columns = row.split('\\t')\n",
    "            #This implementation uses {1gram:{year:match_count ...} ...}\n",
    "            if readcolumns(columns[1:]):\n",
    "                ngrams.add(columns[0])\n",
    "        print(file_path)"
   ]
  },
  {
   "cell_type": "code",
   "execution_count": null,
   "id": "5ce257a6",
   "metadata": {},
   "outputs": [],
   "source": [
    "len(ngrams)"
   ]
  },
  {
   "cell_type": "code",
   "execution_count": 14,
   "id": "060343e4",
   "metadata": {},
   "outputs": [
    {
     "data": {
      "text/plain": [
       "79080440"
      ]
     },
     "execution_count": 14,
     "metadata": {},
     "output_type": "execute_result"
    }
   ],
   "source": [
    "len(ngrams)"
   ]
  },
  {
   "cell_type": "code",
   "execution_count": 15,
   "id": "8952e51d",
   "metadata": {},
   "outputs": [
    {
     "name": "stdout",
     "output_type": "stream",
     "text": [
      "CPU times: user 20.6 s, sys: 11.7 s, total: 32.3 s\n",
      "Wall time: 39.5 s\n"
     ]
    },
    {
     "data": {
      "text/plain": [
       "79080440"
      ]
     },
     "execution_count": 15,
     "metadata": {},
     "output_type": "execute_result"
    }
   ],
   "source": [
    "%%time\n",
    "ngrams = set(ngrams)\n",
    "len(ngrams)"
   ]
  }
 ],
 "metadata": {
  "kernelspec": {
   "display_name": "Python 3",
   "language": "python",
   "name": "python3"
  },
  "language_info": {
   "codemirror_mode": {
    "name": "ipython",
    "version": 3
   },
   "file_extension": ".py",
   "mimetype": "text/x-python",
   "name": "python",
   "nbconvert_exporter": "python",
   "pygments_lexer": "ipython3",
   "version": "3.8.8"
  }
 },
 "nbformat": 4,
 "nbformat_minor": 5
}
