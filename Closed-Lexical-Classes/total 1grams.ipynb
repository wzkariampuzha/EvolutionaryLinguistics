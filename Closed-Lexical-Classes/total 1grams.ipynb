{
 "cells": [
  {
   "cell_type": "code",
   "execution_count": 1,
   "id": "2162b9b1",
   "metadata": {},
   "outputs": [],
   "source": [
    "import csv\n",
    "total_counts_file = './Ngrams/totalcounts-1'"
   ]
  },
  {
   "cell_type": "code",
   "execution_count": 2,
   "id": "81fcba02",
   "metadata": {},
   "outputs": [],
   "source": [
    "years = []\n",
    "unigram_count = []\n",
    "\n",
    "with open(total_counts_file) as f:\n",
    "    reader = csv.reader(f, delimiter='\\t')\n",
    "    for row in reader:\n",
    "        for i in range(1,len(row)-1):\n",
    "            year, match_count, page_count, volume_count = tuple(row[i].split(','))\n",
    "            years.append(int(year))\n",
    "            unigram_count.append(int(match_count))"
   ]
  },
  {
   "cell_type": "code",
   "execution_count": 3,
   "id": "5a63f1cf",
   "metadata": {},
   "outputs": [
    {
     "data": {
      "text/plain": [
       "529"
      ]
     },
     "execution_count": 3,
     "metadata": {},
     "output_type": "execute_result"
    }
   ],
   "source": [
    "len(unigram_count)"
   ]
  },
  {
   "cell_type": "code",
   "execution_count": 4,
   "id": "71379287",
   "metadata": {},
   "outputs": [
    {
     "data": {
      "text/plain": [
       "529"
      ]
     },
     "execution_count": 4,
     "metadata": {},
     "output_type": "execute_result"
    }
   ],
   "source": [
    "len(years)"
   ]
  },
  {
   "cell_type": "code",
   "execution_count": 5,
   "id": "b8ce88b6",
   "metadata": {},
   "outputs": [
    {
     "data": {
      "text/plain": [
       "1997515570677"
      ]
     },
     "execution_count": 5,
     "metadata": {},
     "output_type": "execute_result"
    }
   ],
   "source": [
    "#total count\n",
    "tc = sum(unigram_count)\n",
    "tc"
   ]
  },
  {
   "cell_type": "code",
   "execution_count": 6,
   "id": "70082b41",
   "metadata": {
    "scrolled": false
   },
   "outputs": [
    {
     "name": "stdout",
     "output_type": "stream",
     "text": [
      "Range is 1470 - 2019\n"
     ]
    }
   ],
   "source": [
    "print('Range is',years[0],'-',years[-1])"
   ]
  },
  {
   "cell_type": "code",
   "execution_count": 7,
   "id": "10860efb",
   "metadata": {},
   "outputs": [
    {
     "data": {
      "text/plain": [
       "1992852566267"
      ]
     },
     "execution_count": 7,
     "metadata": {},
     "output_type": "execute_result"
    }
   ],
   "source": [
    "#total count in the years 1800-2019\n",
    "tc18002019 = sum([unigram_count for year, unigram_count in zip(years, unigram_count) if year>=1800])\n",
    "tc18002019"
   ]
  },
  {
   "cell_type": "code",
   "execution_count": 8,
   "id": "a6a7b5ab",
   "metadata": {},
   "outputs": [
    {
     "name": "stdout",
     "output_type": "stream",
     "text": [
      "99.76655979665682 % of all unigrams in the corpus are found in the years 1800-2019\n"
     ]
    }
   ],
   "source": [
    "print(100*(tc18002019/tc),'% of all unigrams in the corpus are found in the years 1800-2019')"
   ]
  },
  {
   "cell_type": "code",
   "execution_count": 9,
   "id": "23954ff7",
   "metadata": {},
   "outputs": [
    {
     "name": "stdout",
     "output_type": "stream",
     "text": [
      "Lexemes in closed lexical classes composed 3.126006462018102e-05 % of all of the unigrams.\n"
     ]
    }
   ],
   "source": [
    "#622967 is the number of lexemes in the five closed lexical classes after preprocessing\n",
    "print('Lexemes in closed lexical classes composed',100*(622967/tc18002019),'% of all of the unigrams.')"
   ]
  }
 ],
 "metadata": {
  "kernelspec": {
   "display_name": "Python 3",
   "language": "python",
   "name": "python3"
  },
  "language_info": {
   "codemirror_mode": {
    "name": "ipython",
    "version": 3
   },
   "file_extension": ".py",
   "mimetype": "text/x-python",
   "name": "python",
   "nbconvert_exporter": "python",
   "pygments_lexer": "ipython3",
   "version": "3.8.8"
  }
 },
 "nbformat": 4,
 "nbformat_minor": 5
}
