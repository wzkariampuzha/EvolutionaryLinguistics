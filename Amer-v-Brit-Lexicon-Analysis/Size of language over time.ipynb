{
 "cells": [
  {
   "cell_type": "markdown",
   "metadata": {},
   "source": [
    "# Defining and calculating lexicon size"
   ]
  },
  {
   "cell_type": "markdown",
   "metadata": {},
   "source": [
    "### Purpose\n",
    "The purpose of this investigation is to define the size of the lexicon over any arbitrary time interval. What is language? What is a lexicon?  \n",
    "<br></br>\n",
    "The *a priori* assumption is that a language exists in an open set of time(s) with members (words, morphemes, lexemes, grammatical structures, idioms, etc.) who exist at at least one time step *t* within that set. However, I posit that a lexicon can only be defined in a closed set of time(s).  \n",
    "<br></br>\n",
    "I define the lexicon to be the subset of language whose members (lexemes) must be true for all time steps *t* in T = {t for t in range(t<sub>i</sub>,t<sub>f</sub>)}; where t<sub>i</sub> is initial time (lower bound of variable interval), t<sub>f</sub> is final time (upper bound of variable interval), and the size of time step *t* is a an arbitrary distinction that can be defined by the data, as time is likely a continuous variable.  \n",
    "<br></br>\n",
    "Hence the size of the lexicon will be the cardinality of the lexicon set."
   ]
  },
  {
   "cell_type": "markdown",
   "metadata": {},
   "source": [
    "## Goals:\n",
    "1. Load the \\*\\-COMPLETE.json files\n",
    "2. Form dictionary of form  \n",
    "        {unigram: {frequency: sum_usage/total_usage of all lexemes in time interval,\n",
    "                   sum_usage: sum total of lexeme counts across time interval,\n",
    "                   median_usage: median lexeme counts over time interval,\n",
    "                   mean_usage: average lexeme counts per year over time interval,\n",
    "                   max_usage: maximum usage of lexeme at single year in time interval,\n",
    "                   min_usage: minimum usage of lexeme at single year in time interval}\n",
    "            ...}  \n",
    "3. Concatenate the dictionaries\n",
    "4. Save as a single JSON"
   ]
  },
  {
   "cell_type": "code",
   "execution_count": 1,
   "metadata": {},
   "outputs": [],
   "source": [
    "import json\n",
    "import numpy as np\n",
    "import pandas as pd\n",
    "from tqdm import tqdm\n",
    "import os\n",
    "import statistics\n",
    "from collections import OrderedDict"
   ]
  },
  {
   "cell_type": "code",
   "execution_count": 2,
   "metadata": {},
   "outputs": [],
   "source": [
    "def open_json(directory,file_path):\n",
    "    with open(directory+file_path,'r') as f:\n",
    "        json_dictionary = json.load(f)\n",
    "        f.close()\n",
    "    return json_dictionary"
   ]
  },
  {
   "cell_type": "code",
   "execution_count": 3,
   "metadata": {},
   "outputs": [],
   "source": [
    "def save_json(dictionary,directory,file_name):\n",
    "    output = file_name+'.json'\n",
    "    if len(dictionary)>0:\n",
    "        with open(directory+output, 'w') as f_out:\n",
    "            json.dump(dictionary, f_out)\n",
    "        print('SAVED: ',output,len(dictionary))\n",
    "    else:\n",
    "        print('unigram dict empty',output)"
   ]
  },
  {
   "cell_type": "code",
   "execution_count": 4,
   "metadata": {},
   "outputs": [],
   "source": [
    "def normalize(ngrams, t_start, t_end):\n",
    "    years = [str(i) for i in range(t_start,t_end+1)]\n",
    "    unigram_dict = dict()\n",
    "    for word in tqdm(ngrams.keys()):\n",
    "        match_count_by_year = []\n",
    "        for year in years:\n",
    "            if year in ngrams[word].keys():\n",
    "                match_count_by_year.append(ngrams[word][year])\n",
    "            else:\n",
    "                #Zeroes are necessary for smoothing\n",
    "                match_count_by_year.append(0)\n",
    "        unigram_dict[word] = match_count_by_year\n",
    "    return unigram_dict, years"
   ]
  },
  {
   "cell_type": "code",
   "execution_count": 5,
   "metadata": {},
   "outputs": [],
   "source": [
    "def smoothing(unigram_dict, years, smoothing = 5):\n",
    "    df = pd.DataFrame.from_dict(unigram_dict #take in the dictionary\n",
    "                    ).rolling(smoothing,center=True #create frames of size 5 (smoothing value), and replace value in middle\n",
    "                    ).mean( #average accross those frames\n",
    "                    ).rename({i:years[i] for i in range(len(years))}, axis = 'index' #rename the indices to years\n",
    "                    ).dropna()\n",
    "    \n",
    "    years = list(df.index.values)\n",
    "    unigram_dict = df.to_dict(orient = 'list')\n",
    "    \n",
    "    return unigram_dict, years"
   ]
  },
  {
   "cell_type": "code",
   "execution_count": 6,
   "metadata": {},
   "outputs": [],
   "source": [
    "def return_sublexicon(unigram_dict):\n",
    "    sublexicon = dict()\n",
    "    usage = 0\n",
    "    for unigram in tqdm(unigram_dict.keys()):\n",
    "        frequency_list = unigram_dict[unigram]\n",
    "        #If there are no zeroes in the list of frequencies for that unigram\n",
    "        if 0 not in frequency_list:\n",
    "            sum_usage = sum(frequency_list)\n",
    "            median_usage = statistics.median(frequency_list)\n",
    "            mean_usage = statistics.mean(frequency_list)\n",
    "            max_usage = max(frequency_list)\n",
    "            min_usage = min(frequency_list)\n",
    "            \n",
    "            usage+=sum_usage\n",
    "            sublexicon[unigram] = {'sum_usage':sum_usage,\n",
    "                                'median_usage':median_usage,\n",
    "                                'mean_usage':mean_usage,\n",
    "                                'max_usage':max_usage,\n",
    "                                'min_usage':min_usage}\n",
    "        \n",
    "    return sublexicon, usage"
   ]
  },
  {
   "cell_type": "code",
   "execution_count": 7,
   "metadata": {},
   "outputs": [],
   "source": [
    "def add_frequency(lexicon,total_usage):\n",
    "    for lexeme in tqdm(lexicon.keys()):\n",
    "        lexicon[lexeme]['frequency'] = lexicon[lexeme]['sum_usage']/total_usage\n",
    "    return lexicon"
   ]
  },
  {
   "cell_type": "code",
   "execution_count": 8,
   "metadata": {},
   "outputs": [],
   "source": [
    "def main(directory, t_start, t_end, t_step):\n",
    "    lexicon = dict()\n",
    "    total_usage = 0\n",
    "    files = os.listdir(directory)\n",
    "    for file_name in files:\n",
    "        if '-COMPLETE.json' in file_name:\n",
    "            ngrams = open_json(directory,file_name)\n",
    "            print('Opened ',file_name)\n",
    "            unigram_dict, years = normalize(ngrams, t_start, t_end)\n",
    "            del ngrams\n",
    "            print('Normalized')\n",
    "            if t_step>1:\n",
    "                unigram_dict, years = smoothing(unigram_dict, years, t_step)\n",
    "                print('Smoothed')\n",
    "            #We only get a sublexicon because each file is only a single piece of the full lexicon.\n",
    "            sublexicon, usage = return_sublexicon(unigram_dict)\n",
    "            del unigram_dict\n",
    "            print('Got sublexicon')\n",
    "            lexicon.update(sublexicon)\n",
    "            total_usage+=usage\n",
    "            del sublexicon #frees up memory for next round, before the compiler gets to it.\n",
    "    \n",
    "    print('Adding frequency')\n",
    "    lexicon = add_frequency(lexicon, total_usage)\n",
    "    \n",
    "    save_json(lexicon,directory,str('LEXICON_'+str(years[0])+'-'+str(years[-1])+'_STEP'+str(t_step)))\n",
    "    print('Frequency added. Lexicon Saved.')\n",
    "    \n",
    "    return lexicon"
   ]
  },
  {
   "cell_type": "code",
   "execution_count": 9,
   "metadata": {
    "scrolled": true
   },
   "outputs": [
    {
     "name": "stdout",
     "output_type": "stream",
     "text": [
      "Range of time for calculating lexicon size is 23 years\n",
      "1-00006-of-00024-COMPLETE.json\n",
      "Opened json\n"
     ]
    },
    {
     "name": "stderr",
     "output_type": "stream",
     "text": [
      "100%|██████████████████████████████████████████████████████████████████████| 582617/582617 [00:03<00:00, 164629.94it/s]\n"
     ]
    },
    {
     "name": "stdout",
     "output_type": "stream",
     "text": [
      "Normalized\n"
     ]
    },
    {
     "name": "stderr",
     "output_type": "stream",
     "text": [
      "100%|██████████████████████████████████████████████████████████████████████| 582617/582617 [00:01<00:00, 347304.67it/s]\n"
     ]
    },
    {
     "name": "stdout",
     "output_type": "stream",
     "text": [
      "Got sublexicon\n",
      "1-00007-of-00024-COMPLETE.json\n",
      "Opened json\n"
     ]
    },
    {
     "name": "stderr",
     "output_type": "stream",
     "text": [
      "100%|████████████████████████████████████████████████████████████████████| 1162149/1162149 [00:07<00:00, 160912.98it/s]\n"
     ]
    },
    {
     "name": "stdout",
     "output_type": "stream",
     "text": [
      "Normalized\n"
     ]
    },
    {
     "name": "stderr",
     "output_type": "stream",
     "text": [
      "100%|████████████████████████████████████████████████████████████████████| 1162149/1162149 [00:03<00:00, 333192.92it/s]\n"
     ]
    },
    {
     "name": "stdout",
     "output_type": "stream",
     "text": [
      "Got sublexicon\n",
      "1-00008-of-00024-COMPLETE.json\n",
      "Opened json\n"
     ]
    },
    {
     "name": "stderr",
     "output_type": "stream",
     "text": [
      "100%|████████████████████████████████████████████████████████████████████| 1227039/1227039 [00:07<00:00, 154655.23it/s]\n"
     ]
    },
    {
     "name": "stdout",
     "output_type": "stream",
     "text": [
      "Normalized\n"
     ]
    },
    {
     "name": "stderr",
     "output_type": "stream",
     "text": [
      "100%|████████████████████████████████████████████████████████████████████| 1227039/1227039 [00:04<00:00, 299063.54it/s]\n"
     ]
    },
    {
     "name": "stdout",
     "output_type": "stream",
     "text": [
      "Got sublexicon\n",
      "1-00009-of-00024-COMPLETE.json\n",
      "Opened json\n"
     ]
    },
    {
     "name": "stderr",
     "output_type": "stream",
     "text": [
      "100%|████████████████████████████████████████████████████████████████████| 1081183/1081183 [00:07<00:00, 150462.79it/s]\n"
     ]
    },
    {
     "name": "stdout",
     "output_type": "stream",
     "text": [
      "Normalized\n"
     ]
    },
    {
     "name": "stderr",
     "output_type": "stream",
     "text": [
      "100%|████████████████████████████████████████████████████████████████████| 1081183/1081183 [00:03<00:00, 298851.24it/s]\n"
     ]
    },
    {
     "name": "stdout",
     "output_type": "stream",
     "text": [
      "Got sublexicon\n",
      "1-00010-of-00024-COMPLETE.json\n",
      "Opened json\n"
     ]
    },
    {
     "name": "stderr",
     "output_type": "stream",
     "text": [
      "100%|████████████████████████████████████████████████████████████████████| 1192753/1192753 [00:07<00:00, 150509.90it/s]\n"
     ]
    },
    {
     "name": "stdout",
     "output_type": "stream",
     "text": [
      "Normalized\n"
     ]
    },
    {
     "name": "stderr",
     "output_type": "stream",
     "text": [
      "100%|████████████████████████████████████████████████████████████████████| 1192753/1192753 [00:03<00:00, 299898.51it/s]\n"
     ]
    },
    {
     "name": "stdout",
     "output_type": "stream",
     "text": [
      "Got sublexicon\n",
      "1-00011-of-00024-COMPLETE.json\n",
      "Opened json\n"
     ]
    },
    {
     "name": "stderr",
     "output_type": "stream",
     "text": [
      "100%|████████████████████████████████████████████████████████████████████| 1205150/1205150 [00:08<00:00, 150101.07it/s]\n"
     ]
    },
    {
     "name": "stdout",
     "output_type": "stream",
     "text": [
      "Normalized\n"
     ]
    },
    {
     "name": "stderr",
     "output_type": "stream",
     "text": [
      "100%|████████████████████████████████████████████████████████████████████| 1205150/1205150 [00:04<00:00, 282057.67it/s]\n"
     ]
    },
    {
     "name": "stdout",
     "output_type": "stream",
     "text": [
      "Got sublexicon\n",
      "1-00012-of-00024-COMPLETE.json\n",
      "Opened json\n"
     ]
    },
    {
     "name": "stderr",
     "output_type": "stream",
     "text": [
      "100%|████████████████████████████████████████████████████████████████████| 1082701/1082701 [00:07<00:00, 138552.29it/s]\n"
     ]
    },
    {
     "name": "stdout",
     "output_type": "stream",
     "text": [
      "Normalized\n"
     ]
    },
    {
     "name": "stderr",
     "output_type": "stream",
     "text": [
      "100%|████████████████████████████████████████████████████████████████████| 1082701/1082701 [00:03<00:00, 306059.87it/s]\n"
     ]
    },
    {
     "name": "stdout",
     "output_type": "stream",
     "text": [
      "Got sublexicon\n",
      "1-00013-of-00024-COMPLETE.json\n",
      "Opened json\n"
     ]
    },
    {
     "name": "stderr",
     "output_type": "stream",
     "text": [
      "100%|████████████████████████████████████████████████████████████████████| 1214351/1214351 [00:08<00:00, 146869.01it/s]\n"
     ]
    },
    {
     "name": "stdout",
     "output_type": "stream",
     "text": [
      "Normalized\n"
     ]
    },
    {
     "name": "stderr",
     "output_type": "stream",
     "text": [
      "100%|████████████████████████████████████████████████████████████████████| 1214351/1214351 [00:03<00:00, 314719.72it/s]\n"
     ]
    },
    {
     "name": "stdout",
     "output_type": "stream",
     "text": [
      "Got sublexicon\n",
      "1-00014-of-00024-COMPLETE.json\n",
      "Opened json\n"
     ]
    },
    {
     "name": "stderr",
     "output_type": "stream",
     "text": [
      "100%|████████████████████████████████████████████████████████████████████| 1351139/1351139 [00:09<00:00, 136493.47it/s]\n"
     ]
    },
    {
     "name": "stdout",
     "output_type": "stream",
     "text": [
      "Normalized\n"
     ]
    },
    {
     "name": "stderr",
     "output_type": "stream",
     "text": [
      "100%|████████████████████████████████████████████████████████████████████| 1351139/1351139 [00:04<00:00, 296757.95it/s]\n"
     ]
    },
    {
     "name": "stdout",
     "output_type": "stream",
     "text": [
      "Got sublexicon\n",
      "1-00015-of-00024-COMPLETE.json\n",
      "Opened json\n"
     ]
    },
    {
     "name": "stderr",
     "output_type": "stream",
     "text": [
      "100%|████████████████████████████████████████████████████████████████████| 1058064/1058064 [00:07<00:00, 143326.36it/s]\n"
     ]
    },
    {
     "name": "stdout",
     "output_type": "stream",
     "text": [
      "Normalized\n"
     ]
    },
    {
     "name": "stderr",
     "output_type": "stream",
     "text": [
      "100%|████████████████████████████████████████████████████████████████████| 1058064/1058064 [00:03<00:00, 307709.37it/s]\n"
     ]
    },
    {
     "name": "stdout",
     "output_type": "stream",
     "text": [
      "Got sublexicon\n",
      "1-00016-of-00024-COMPLETE.json\n",
      "Opened json\n"
     ]
    },
    {
     "name": "stderr",
     "output_type": "stream",
     "text": [
      "100%|████████████████████████████████████████████████████████████████████| 1455003/1455003 [00:09<00:00, 149027.91it/s]\n"
     ]
    },
    {
     "name": "stdout",
     "output_type": "stream",
     "text": [
      "Normalized\n"
     ]
    },
    {
     "name": "stderr",
     "output_type": "stream",
     "text": [
      "100%|████████████████████████████████████████████████████████████████████| 1455003/1455003 [00:04<00:00, 331096.96it/s]\n"
     ]
    },
    {
     "name": "stdout",
     "output_type": "stream",
     "text": [
      "Got sublexicon\n",
      "1-00017-of-00024-COMPLETE.json\n",
      "Opened json\n"
     ]
    },
    {
     "name": "stderr",
     "output_type": "stream",
     "text": [
      "100%|████████████████████████████████████████████████████████████████████| 1378241/1378241 [00:09<00:00, 140730.06it/s]\n"
     ]
    },
    {
     "name": "stdout",
     "output_type": "stream",
     "text": [
      "Normalized\n"
     ]
    },
    {
     "name": "stderr",
     "output_type": "stream",
     "text": [
      "100%|████████████████████████████████████████████████████████████████████| 1378241/1378241 [00:04<00:00, 340121.88it/s]\n"
     ]
    },
    {
     "name": "stdout",
     "output_type": "stream",
     "text": [
      "Got sublexicon\n",
      "1-00018-of-00024-COMPLETE.json\n",
      "Opened json\n"
     ]
    },
    {
     "name": "stderr",
     "output_type": "stream",
     "text": [
      "100%|████████████████████████████████████████████████████████████████████| 1329481/1329481 [00:09<00:00, 143239.26it/s]\n"
     ]
    },
    {
     "name": "stdout",
     "output_type": "stream",
     "text": [
      "Normalized\n"
     ]
    },
    {
     "name": "stderr",
     "output_type": "stream",
     "text": [
      "100%|████████████████████████████████████████████████████████████████████| 1329481/1329481 [00:03<00:00, 337689.42it/s]\n"
     ]
    },
    {
     "name": "stdout",
     "output_type": "stream",
     "text": [
      "Got sublexicon\n",
      "1-00019-of-00024-COMPLETE.json\n",
      "Opened json\n"
     ]
    },
    {
     "name": "stderr",
     "output_type": "stream",
     "text": [
      "100%|████████████████████████████████████████████████████████████████████| 1348948/1348948 [00:09<00:00, 148818.46it/s]\n"
     ]
    },
    {
     "name": "stdout",
     "output_type": "stream",
     "text": [
      "Normalized\n"
     ]
    },
    {
     "name": "stderr",
     "output_type": "stream",
     "text": [
      "100%|████████████████████████████████████████████████████████████████████| 1348948/1348948 [00:03<00:00, 352389.38it/s]\n"
     ]
    },
    {
     "name": "stdout",
     "output_type": "stream",
     "text": [
      "Got sublexicon\n",
      "1-00020-of-00024-COMPLETE.json\n",
      "Opened json\n"
     ]
    },
    {
     "name": "stderr",
     "output_type": "stream",
     "text": [
      "100%|████████████████████████████████████████████████████████████████████| 1488851/1488851 [00:10<00:00, 140193.64it/s]\n"
     ]
    },
    {
     "name": "stdout",
     "output_type": "stream",
     "text": [
      "Normalized\n"
     ]
    },
    {
     "name": "stderr",
     "output_type": "stream",
     "text": [
      "100%|████████████████████████████████████████████████████████████████████| 1488851/1488851 [00:04<00:00, 367621.80it/s]\n"
     ]
    },
    {
     "name": "stdout",
     "output_type": "stream",
     "text": [
      "Got sublexicon\n",
      "1-00021-of-00024-COMPLETE.json\n",
      "Opened json\n"
     ]
    },
    {
     "name": "stderr",
     "output_type": "stream",
     "text": [
      "100%|████████████████████████████████████████████████████████████████████| 1258884/1258884 [00:08<00:00, 142235.93it/s]\n"
     ]
    },
    {
     "name": "stdout",
     "output_type": "stream",
     "text": [
      "Normalized\n"
     ]
    },
    {
     "name": "stderr",
     "output_type": "stream",
     "text": [
      "100%|████████████████████████████████████████████████████████████████████| 1258884/1258884 [00:03<00:00, 329954.20it/s]\n"
     ]
    },
    {
     "name": "stdout",
     "output_type": "stream",
     "text": [
      "Got sublexicon\n",
      "1-00022-of-00024-COMPLETE.json\n",
      "Opened json\n"
     ]
    },
    {
     "name": "stderr",
     "output_type": "stream",
     "text": [
      "100%|████████████████████████████████████████████████████████████████████| 1438778/1438778 [00:10<00:00, 141545.45it/s]\n"
     ]
    },
    {
     "name": "stdout",
     "output_type": "stream",
     "text": [
      "Normalized\n"
     ]
    },
    {
     "name": "stderr",
     "output_type": "stream",
     "text": [
      "100%|████████████████████████████████████████████████████████████████████| 1438778/1438778 [00:05<00:00, 286679.07it/s]\n"
     ]
    },
    {
     "name": "stdout",
     "output_type": "stream",
     "text": [
      "Got sublexicon\n",
      "1-00023-of-00024-COMPLETE.json\n",
      "Opened json\n"
     ]
    },
    {
     "name": "stderr",
     "output_type": "stream",
     "text": [
      "100%|████████████████████████████████████████████████████████████████████| 1434712/1434712 [00:11<00:00, 127123.84it/s]\n"
     ]
    },
    {
     "name": "stdout",
     "output_type": "stream",
     "text": [
      "Normalized\n"
     ]
    },
    {
     "name": "stderr",
     "output_type": "stream",
     "text": [
      "100%|████████████████████████████████████████████████████████████████████| 1434712/1434712 [00:04<00:00, 292755.14it/s]\n"
     ]
    },
    {
     "name": "stdout",
     "output_type": "stream",
     "text": [
      "Got sublexicon\n",
      "Adding frequency\n"
     ]
    },
    {
     "name": "stderr",
     "output_type": "stream",
     "text": [
      "100%|████████████████████████████████████████████████████████████████████| 1926813/1926813 [00:01<00:00, 987869.09it/s]\n"
     ]
    },
    {
     "name": "stdout",
     "output_type": "stream",
     "text": [
      "SAVED:  LEXICON_YEAR_1995-2018_STE 1926813\n",
      "Frequency added. Lexicon Saved.\n",
      "Wall time: 9min 27s\n"
     ]
    }
   ],
   "source": [
    "%%time\n",
    "t_start = 1995 #Input the year that you want to consider as the lower bound of the lexicon\n",
    "t_end = 2018 #Input the year that you want to consider as the upper bound of the lexicon \n",
    "#This is usually an odd number (3 years would average the frequency of that year with the frequencies of the year before and after it)\n",
    "t_step = 1 #Smoothing is a more advanced(but very slow) way to implement the time step (and is code reuse). \n",
    "directory = '../Ngrams/unigram_data/'\n",
    "\n",
    "if t_start>=t_end:\n",
    "    raise ValueError('Re-Input start year and end year')\n",
    "elif type(t_step)!=int or type(t_step)!=int or type(t_step)!=int:\n",
    "    raise ValueError('Re-Input all values as integers')\n",
    "else:\n",
    "    t_interval = t_end-t_start\n",
    "    print(\"Creating Lexicon from year\",t_start,'-',t_end,'with step',t_step)\n",
    "    print('Range of time for calculating lexicon size is', t_interval-(t_step-1),'years\\n')\n",
    "    lexicon = main(directory, t_start, t_end, t_step)"
   ]
  },
  {
   "cell_type": "code",
   "execution_count": 10,
   "metadata": {},
   "outputs": [
    {
     "name": "stdout",
     "output_type": "stream",
     "text": [
      "Size of Lexicon is  1926813\n"
     ]
    }
   ],
   "source": [
    "print('Size of Lexicon is ',len(lexicon.keys()))"
   ]
  },
  {
   "cell_type": "code",
   "execution_count": 11,
   "metadata": {},
   "outputs": [],
   "source": [
    "def top_counts(dictionary,count_type,num_hits=25,head = True):\n",
    "    return OrderedDict(sorted(dictionary.items(), key=lambda x: x[1][count_type], reverse=head)[:num_hits])"
   ]
  },
  {
   "cell_type": "code",
   "execution_count": 12,
   "metadata": {},
   "outputs": [],
   "source": [
    "top_frequency = top_counts(lexicon,'frequency')"
   ]
  },
  {
   "cell_type": "code",
   "execution_count": 13,
   "metadata": {},
   "outputs": [
    {
     "data": {
      "text/plain": [
       "OrderedDict([('the_DET',\n",
       "              {'sum_usage': 28164081494,\n",
       "               'median_usage': 1166314842.0,\n",
       "               'mean_usage': 1173503395.5833333,\n",
       "               'max_usage': 1525772265,\n",
       "               'min_usage': 970419604,\n",
       "               'frequency': 0.05560282405468271}),\n",
       "             ('of_ADP',\n",
       "              {'sum_usage': 17752494369,\n",
       "               'median_usage': 721687512.0,\n",
       "               'mean_usage': 739687265.375,\n",
       "               'max_usage': 929870130,\n",
       "               'min_usage': 652445551,\n",
       "               'frequency': 0.035047790255170914}),\n",
       "             ('and_CONJ',\n",
       "              {'sum_usage': 14702193028,\n",
       "               'median_usage': 617442112.0,\n",
       "               'mean_usage': 612591376.1666666,\n",
       "               'max_usage': 807922209,\n",
       "               'min_usage': 491426304,\n",
       "               'frequency': 0.029025745161546324}),\n",
       "             ('to_PRT',\n",
       "              {'sum_usage': 12608939440,\n",
       "               'median_usage': 538991089.0,\n",
       "               'mean_usage': 525372476.6666667,\n",
       "               'max_usage': 698689467,\n",
       "               'min_usage': 405597116,\n",
       "               'frequency': 0.024893147726043487}),\n",
       "             ('a_DET',\n",
       "              {'sum_usage': 9366656610,\n",
       "               'median_usage': 402613238.5,\n",
       "               'mean_usage': 390277358.75,\n",
       "               'max_usage': 527641591,\n",
       "               'min_usage': 296595336,\n",
       "               'frequency': 0.018492083953720036}),\n",
       "             ('in_ADP',\n",
       "              {'sum_usage': 9317290618,\n",
       "               'median_usage': 380219382.5,\n",
       "               'mean_usage': 388220442.4166667,\n",
       "               'max_usage': 503540139,\n",
       "               'min_usage': 326506750,\n",
       "               'frequency': 0.018394623343543717}),\n",
       "             ('be_VERB',\n",
       "              {'sum_usage': 4639112644,\n",
       "               'median_usage': 193273214.5,\n",
       "               'mean_usage': 193296360.16666666,\n",
       "               'max_usage': 276277608,\n",
       "               'min_usage': 127238834,\n",
       "               'frequency': 0.009158749386843608}),\n",
       "             ('have_VERB',\n",
       "              {'sum_usage': 4375345988,\n",
       "               'median_usage': 186609755.5,\n",
       "               'mean_usage': 182306082.83333334,\n",
       "               'max_usage': 252645352,\n",
       "               'min_usage': 128181756,\n",
       "               'frequency': 0.008638009132339499}),\n",
       "             ('for_ADP',\n",
       "              {'sum_usage': 4356470193,\n",
       "               'median_usage': 176903697.0,\n",
       "               'mean_usage': 181519591.375,\n",
       "               'max_usage': 225328824,\n",
       "               'min_usage': 158397149,\n",
       "               'frequency': 0.008600743670353784}),\n",
       "             ('it_PRON',\n",
       "              {'sum_usage': 3350580066,\n",
       "               'median_usage': 142832060.5,\n",
       "               'mean_usage': 139607502.75,\n",
       "               'max_usage': 197281098,\n",
       "               'min_usage': 93205056,\n",
       "               'frequency': 0.006614869152775829}),\n",
       "             ('with_ADP',\n",
       "              {'sum_usage': 3343304482,\n",
       "               'median_usage': 142962433.5,\n",
       "               'mean_usage': 139304353.41666666,\n",
       "               'max_usage': 188535962,\n",
       "               'min_usage': 107131169,\n",
       "               'frequency': 0.006600505360470611}),\n",
       "             ('not_ADV',\n",
       "              {'sum_usage': 3118006271,\n",
       "               'median_usage': 129304545.5,\n",
       "               'mean_usage': 129916927.95833333,\n",
       "               'max_usage': 183809003,\n",
       "               'min_usage': 85499645,\n",
       "               'frequency': 0.006155711278024267}),\n",
       "             ('on_ADP',\n",
       "              {'sum_usage': 2904748399,\n",
       "               'median_usage': 121790793.0,\n",
       "               'mean_usage': 121031183.29166667,\n",
       "               'max_usage': 158184533,\n",
       "               'min_usage': 98679645,\n",
       "               'frequency': 0.005734687786183491}),\n",
       "             ('that_ADP',\n",
       "              {'sum_usage': 2816386319,\n",
       "               'median_usage': 118631477.5,\n",
       "               'mean_usage': 117349429.95833333,\n",
       "               'max_usage': 155436059,\n",
       "               'min_usage': 90050749,\n",
       "               'frequency': 0.005560239306889306}),\n",
       "             ('a_ADP',\n",
       "              {'sum_usage': 2784201204,\n",
       "               'median_usage': 118292770.0,\n",
       "               'mean_usage': 116008383.5,\n",
       "               'max_usage': 156866830,\n",
       "               'min_usage': 88141672,\n",
       "               'frequency': 0.005496697973687797}),\n",
       "             ('by_ADP',\n",
       "              {'sum_usage': 2559330510,\n",
       "               'median_usage': 106055803.0,\n",
       "               'mean_usage': 106638771.25,\n",
       "               'max_usage': 131376675,\n",
       "               'min_usage': 88897873,\n",
       "               'frequency': 0.005052747914950745}),\n",
       "             ('that_DET',\n",
       "              {'sum_usage': 2299602026,\n",
       "               'median_usage': 99397947.5,\n",
       "               'mean_usage': 95816751.08333333,\n",
       "               'max_usage': 131382375,\n",
       "               'min_usage': 66023190,\n",
       "               'frequency': 0.004539980005195972}),\n",
       "             ('from_ADP',\n",
       "              {'sum_usage': 2100422280,\n",
       "               'median_usage': 87884541.0,\n",
       "               'mean_usage': 87517595,\n",
       "               'max_usage': 116932302,\n",
       "               'min_usage': 71120083,\n",
       "               'frequency': 0.004146750196709096}),\n",
       "             ('at_ADP',\n",
       "              {'sum_usage': 2013289863,\n",
       "               'median_usage': 85753104.0,\n",
       "               'mean_usage': 83887077.625,\n",
       "               'max_usage': 113356664,\n",
       "               'min_usage': 65073386,\n",
       "               'frequency': 0.003974729374622554}),\n",
       "             ('his_PRON',\n",
       "              {'sum_usage': 1851558927,\n",
       "               'median_usage': 74553129.0,\n",
       "               'mean_usage': 77148288.625,\n",
       "               'max_usage': 124103912,\n",
       "               'min_usage': 38573331,\n",
       "               'frequency': 0.003655432727915899}),\n",
       "             ('you_PRON',\n",
       "              {'sum_usage': 1849819502,\n",
       "               'median_usage': 71527733.0,\n",
       "               'mean_usage': 77075812.58333333,\n",
       "               'max_usage': 127542054,\n",
       "               'min_usage': 34719758,\n",
       "               'frequency': 0.0036519986751401353}),\n",
       "             ('do_VERB',\n",
       "              {'sum_usage': 1825239689,\n",
       "               'median_usage': 73759521.0,\n",
       "               'mean_usage': 76051653.70833333,\n",
       "               'max_usage': 113829106,\n",
       "               'min_usage': 44067762,\n",
       "               'frequency': 0.003603472078672675}),\n",
       "             ('he_PRON',\n",
       "              {'sum_usage': 1810847228,\n",
       "               'median_usage': 71262149.5,\n",
       "               'mean_usage': 75451967.83333333,\n",
       "               'max_usage': 124951118,\n",
       "               'min_usage': 35494257,\n",
       "               'frequency': 0.003575057820715519}),\n",
       "             ('this_DET',\n",
       "              {'sum_usage': 1803933994,\n",
       "               'median_usage': 75242598.5,\n",
       "               'mean_usage': 75163916.41666667,\n",
       "               'max_usage': 100646514,\n",
       "               'min_usage': 59277374,\n",
       "               'frequency': 0.003561409396433238}),\n",
       "             ('an_DET',\n",
       "              {'sum_usage': 1678411564,\n",
       "               'median_usage': 69194464.5,\n",
       "               'mean_usage': 69933815.16666667,\n",
       "               'max_usage': 90241576,\n",
       "               'min_usage': 57942219,\n",
       "               'frequency': 0.003313597246347921})])"
      ]
     },
     "execution_count": 13,
     "metadata": {},
     "output_type": "execute_result"
    }
   ],
   "source": [
    "top_frequency"
   ]
  },
  {
   "cell_type": "code",
   "execution_count": 14,
   "metadata": {},
   "outputs": [],
   "source": [
    "top_median = top_counts(lexicon,'median_usage')"
   ]
  },
  {
   "cell_type": "code",
   "execution_count": 15,
   "metadata": {},
   "outputs": [
    {
     "data": {
      "text/plain": [
       "OrderedDict([('the_DET',\n",
       "              {'sum_usage': 28164081494,\n",
       "               'median_usage': 1166314842.0,\n",
       "               'mean_usage': 1173503395.5833333,\n",
       "               'max_usage': 1525772265,\n",
       "               'min_usage': 970419604,\n",
       "               'frequency': 0.05560282405468271}),\n",
       "             ('of_ADP',\n",
       "              {'sum_usage': 17752494369,\n",
       "               'median_usage': 721687512.0,\n",
       "               'mean_usage': 739687265.375,\n",
       "               'max_usage': 929870130,\n",
       "               'min_usage': 652445551,\n",
       "               'frequency': 0.035047790255170914}),\n",
       "             ('and_CONJ',\n",
       "              {'sum_usage': 14702193028,\n",
       "               'median_usage': 617442112.0,\n",
       "               'mean_usage': 612591376.1666666,\n",
       "               'max_usage': 807922209,\n",
       "               'min_usage': 491426304,\n",
       "               'frequency': 0.029025745161546324}),\n",
       "             ('to_PRT',\n",
       "              {'sum_usage': 12608939440,\n",
       "               'median_usage': 538991089.0,\n",
       "               'mean_usage': 525372476.6666667,\n",
       "               'max_usage': 698689467,\n",
       "               'min_usage': 405597116,\n",
       "               'frequency': 0.024893147726043487}),\n",
       "             ('a_DET',\n",
       "              {'sum_usage': 9366656610,\n",
       "               'median_usage': 402613238.5,\n",
       "               'mean_usage': 390277358.75,\n",
       "               'max_usage': 527641591,\n",
       "               'min_usage': 296595336,\n",
       "               'frequency': 0.018492083953720036}),\n",
       "             ('in_ADP',\n",
       "              {'sum_usage': 9317290618,\n",
       "               'median_usage': 380219382.5,\n",
       "               'mean_usage': 388220442.4166667,\n",
       "               'max_usage': 503540139,\n",
       "               'min_usage': 326506750,\n",
       "               'frequency': 0.018394623343543717}),\n",
       "             ('be_VERB',\n",
       "              {'sum_usage': 4639112644,\n",
       "               'median_usage': 193273214.5,\n",
       "               'mean_usage': 193296360.16666666,\n",
       "               'max_usage': 276277608,\n",
       "               'min_usage': 127238834,\n",
       "               'frequency': 0.009158749386843608}),\n",
       "             ('have_VERB',\n",
       "              {'sum_usage': 4375345988,\n",
       "               'median_usage': 186609755.5,\n",
       "               'mean_usage': 182306082.83333334,\n",
       "               'max_usage': 252645352,\n",
       "               'min_usage': 128181756,\n",
       "               'frequency': 0.008638009132339499}),\n",
       "             ('for_ADP',\n",
       "              {'sum_usage': 4356470193,\n",
       "               'median_usage': 176903697.0,\n",
       "               'mean_usage': 181519591.375,\n",
       "               'max_usage': 225328824,\n",
       "               'min_usage': 158397149,\n",
       "               'frequency': 0.008600743670353784}),\n",
       "             ('with_ADP',\n",
       "              {'sum_usage': 3343304482,\n",
       "               'median_usage': 142962433.5,\n",
       "               'mean_usage': 139304353.41666666,\n",
       "               'max_usage': 188535962,\n",
       "               'min_usage': 107131169,\n",
       "               'frequency': 0.006600505360470611}),\n",
       "             ('it_PRON',\n",
       "              {'sum_usage': 3350580066,\n",
       "               'median_usage': 142832060.5,\n",
       "               'mean_usage': 139607502.75,\n",
       "               'max_usage': 197281098,\n",
       "               'min_usage': 93205056,\n",
       "               'frequency': 0.006614869152775829}),\n",
       "             ('not_ADV',\n",
       "              {'sum_usage': 3118006271,\n",
       "               'median_usage': 129304545.5,\n",
       "               'mean_usage': 129916927.95833333,\n",
       "               'max_usage': 183809003,\n",
       "               'min_usage': 85499645,\n",
       "               'frequency': 0.006155711278024267}),\n",
       "             ('on_ADP',\n",
       "              {'sum_usage': 2904748399,\n",
       "               'median_usage': 121790793.0,\n",
       "               'mean_usage': 121031183.29166667,\n",
       "               'max_usage': 158184533,\n",
       "               'min_usage': 98679645,\n",
       "               'frequency': 0.005734687786183491}),\n",
       "             ('that_ADP',\n",
       "              {'sum_usage': 2816386319,\n",
       "               'median_usage': 118631477.5,\n",
       "               'mean_usage': 117349429.95833333,\n",
       "               'max_usage': 155436059,\n",
       "               'min_usage': 90050749,\n",
       "               'frequency': 0.005560239306889306}),\n",
       "             ('a_ADP',\n",
       "              {'sum_usage': 2784201204,\n",
       "               'median_usage': 118292770.0,\n",
       "               'mean_usage': 116008383.5,\n",
       "               'max_usage': 156866830,\n",
       "               'min_usage': 88141672,\n",
       "               'frequency': 0.005496697973687797}),\n",
       "             ('by_ADP',\n",
       "              {'sum_usage': 2559330510,\n",
       "               'median_usage': 106055803.0,\n",
       "               'mean_usage': 106638771.25,\n",
       "               'max_usage': 131376675,\n",
       "               'min_usage': 88897873,\n",
       "               'frequency': 0.005052747914950745}),\n",
       "             ('that_DET',\n",
       "              {'sum_usage': 2299602026,\n",
       "               'median_usage': 99397947.5,\n",
       "               'mean_usage': 95816751.08333333,\n",
       "               'max_usage': 131382375,\n",
       "               'min_usage': 66023190,\n",
       "               'frequency': 0.004539980005195972}),\n",
       "             ('from_ADP',\n",
       "              {'sum_usage': 2100422280,\n",
       "               'median_usage': 87884541.0,\n",
       "               'mean_usage': 87517595,\n",
       "               'max_usage': 116932302,\n",
       "               'min_usage': 71120083,\n",
       "               'frequency': 0.004146750196709096}),\n",
       "             ('at_ADP',\n",
       "              {'sum_usage': 2013289863,\n",
       "               'median_usage': 85753104.0,\n",
       "               'mean_usage': 83887077.625,\n",
       "               'max_usage': 113356664,\n",
       "               'min_usage': 65073386,\n",
       "               'frequency': 0.003974729374622554}),\n",
       "             ('this_DET',\n",
       "              {'sum_usage': 1803933994,\n",
       "               'median_usage': 75242598.5,\n",
       "               'mean_usage': 75163916.41666667,\n",
       "               'max_usage': 100646514,\n",
       "               'min_usage': 59277374,\n",
       "               'frequency': 0.003561409396433238}),\n",
       "             ('his_PRON',\n",
       "              {'sum_usage': 1851558927,\n",
       "               'median_usage': 74553129.0,\n",
       "               'mean_usage': 77148288.625,\n",
       "               'max_usage': 124103912,\n",
       "               'min_usage': 38573331,\n",
       "               'frequency': 0.003655432727915899}),\n",
       "             ('do_VERB',\n",
       "              {'sum_usage': 1825239689,\n",
       "               'median_usage': 73759521.0,\n",
       "               'mean_usage': 76051653.70833333,\n",
       "               'max_usage': 113829106,\n",
       "               'min_usage': 44067762,\n",
       "               'frequency': 0.003603472078672675}),\n",
       "             ('you_PRON',\n",
       "              {'sum_usage': 1849819502,\n",
       "               'median_usage': 71527733.0,\n",
       "               'mean_usage': 77075812.58333333,\n",
       "               'max_usage': 127542054,\n",
       "               'min_usage': 34719758,\n",
       "               'frequency': 0.0036519986751401353}),\n",
       "             ('he_PRON',\n",
       "              {'sum_usage': 1810847228,\n",
       "               'median_usage': 71262149.5,\n",
       "               'mean_usage': 75451967.83333333,\n",
       "               'max_usage': 124951118,\n",
       "               'min_usage': 35494257,\n",
       "               'frequency': 0.003575057820715519}),\n",
       "             ('an_DET',\n",
       "              {'sum_usage': 1678411564,\n",
       "               'median_usage': 69194464.5,\n",
       "               'mean_usage': 69933815.16666667,\n",
       "               'max_usage': 90241576,\n",
       "               'min_usage': 57942219,\n",
       "               'frequency': 0.003313597246347921})])"
      ]
     },
     "execution_count": 15,
     "metadata": {},
     "output_type": "execute_result"
    }
   ],
   "source": [
    "top_median"
   ]
  },
  {
   "cell_type": "code",
   "execution_count": 16,
   "metadata": {},
   "outputs": [],
   "source": [
    "top_max = top_counts(lexicon,'max_usage')"
   ]
  },
  {
   "cell_type": "code",
   "execution_count": 17,
   "metadata": {},
   "outputs": [
    {
     "data": {
      "text/plain": [
       "OrderedDict([('the_DET',\n",
       "              {'sum_usage': 28164081494,\n",
       "               'median_usage': 1166314842.0,\n",
       "               'mean_usage': 1173503395.5833333,\n",
       "               'max_usage': 1525772265,\n",
       "               'min_usage': 970419604,\n",
       "               'frequency': 0.05560282405468271}),\n",
       "             ('of_ADP',\n",
       "              {'sum_usage': 17752494369,\n",
       "               'median_usage': 721687512.0,\n",
       "               'mean_usage': 739687265.375,\n",
       "               'max_usage': 929870130,\n",
       "               'min_usage': 652445551,\n",
       "               'frequency': 0.035047790255170914}),\n",
       "             ('and_CONJ',\n",
       "              {'sum_usage': 14702193028,\n",
       "               'median_usage': 617442112.0,\n",
       "               'mean_usage': 612591376.1666666,\n",
       "               'max_usage': 807922209,\n",
       "               'min_usage': 491426304,\n",
       "               'frequency': 0.029025745161546324}),\n",
       "             ('to_PRT',\n",
       "              {'sum_usage': 12608939440,\n",
       "               'median_usage': 538991089.0,\n",
       "               'mean_usage': 525372476.6666667,\n",
       "               'max_usage': 698689467,\n",
       "               'min_usage': 405597116,\n",
       "               'frequency': 0.024893147726043487}),\n",
       "             ('a_DET',\n",
       "              {'sum_usage': 9366656610,\n",
       "               'median_usage': 402613238.5,\n",
       "               'mean_usage': 390277358.75,\n",
       "               'max_usage': 527641591,\n",
       "               'min_usage': 296595336,\n",
       "               'frequency': 0.018492083953720036}),\n",
       "             ('in_ADP',\n",
       "              {'sum_usage': 9317290618,\n",
       "               'median_usage': 380219382.5,\n",
       "               'mean_usage': 388220442.4166667,\n",
       "               'max_usage': 503540139,\n",
       "               'min_usage': 326506750,\n",
       "               'frequency': 0.018394623343543717}),\n",
       "             ('be_VERB',\n",
       "              {'sum_usage': 4639112644,\n",
       "               'median_usage': 193273214.5,\n",
       "               'mean_usage': 193296360.16666666,\n",
       "               'max_usage': 276277608,\n",
       "               'min_usage': 127238834,\n",
       "               'frequency': 0.009158749386843608}),\n",
       "             ('have_VERB',\n",
       "              {'sum_usage': 4375345988,\n",
       "               'median_usage': 186609755.5,\n",
       "               'mean_usage': 182306082.83333334,\n",
       "               'max_usage': 252645352,\n",
       "               'min_usage': 128181756,\n",
       "               'frequency': 0.008638009132339499}),\n",
       "             ('for_ADP',\n",
       "              {'sum_usage': 4356470193,\n",
       "               'median_usage': 176903697.0,\n",
       "               'mean_usage': 181519591.375,\n",
       "               'max_usage': 225328824,\n",
       "               'min_usage': 158397149,\n",
       "               'frequency': 0.008600743670353784}),\n",
       "             ('it_PRON',\n",
       "              {'sum_usage': 3350580066,\n",
       "               'median_usage': 142832060.5,\n",
       "               'mean_usage': 139607502.75,\n",
       "               'max_usage': 197281098,\n",
       "               'min_usage': 93205056,\n",
       "               'frequency': 0.006614869152775829}),\n",
       "             ('with_ADP',\n",
       "              {'sum_usage': 3343304482,\n",
       "               'median_usage': 142962433.5,\n",
       "               'mean_usage': 139304353.41666666,\n",
       "               'max_usage': 188535962,\n",
       "               'min_usage': 107131169,\n",
       "               'frequency': 0.006600505360470611}),\n",
       "             ('not_ADV',\n",
       "              {'sum_usage': 3118006271,\n",
       "               'median_usage': 129304545.5,\n",
       "               'mean_usage': 129916927.95833333,\n",
       "               'max_usage': 183809003,\n",
       "               'min_usage': 85499645,\n",
       "               'frequency': 0.006155711278024267}),\n",
       "             ('on_ADP',\n",
       "              {'sum_usage': 2904748399,\n",
       "               'median_usage': 121790793.0,\n",
       "               'mean_usage': 121031183.29166667,\n",
       "               'max_usage': 158184533,\n",
       "               'min_usage': 98679645,\n",
       "               'frequency': 0.005734687786183491}),\n",
       "             ('a_ADP',\n",
       "              {'sum_usage': 2784201204,\n",
       "               'median_usage': 118292770.0,\n",
       "               'mean_usage': 116008383.5,\n",
       "               'max_usage': 156866830,\n",
       "               'min_usage': 88141672,\n",
       "               'frequency': 0.005496697973687797}),\n",
       "             ('that_ADP',\n",
       "              {'sum_usage': 2816386319,\n",
       "               'median_usage': 118631477.5,\n",
       "               'mean_usage': 117349429.95833333,\n",
       "               'max_usage': 155436059,\n",
       "               'min_usage': 90050749,\n",
       "               'frequency': 0.005560239306889306}),\n",
       "             ('that_DET',\n",
       "              {'sum_usage': 2299602026,\n",
       "               'median_usage': 99397947.5,\n",
       "               'mean_usage': 95816751.08333333,\n",
       "               'max_usage': 131382375,\n",
       "               'min_usage': 66023190,\n",
       "               'frequency': 0.004539980005195972}),\n",
       "             ('by_ADP',\n",
       "              {'sum_usage': 2559330510,\n",
       "               'median_usage': 106055803.0,\n",
       "               'mean_usage': 106638771.25,\n",
       "               'max_usage': 131376675,\n",
       "               'min_usage': 88897873,\n",
       "               'frequency': 0.005052747914950745}),\n",
       "             ('you_PRON',\n",
       "              {'sum_usage': 1849819502,\n",
       "               'median_usage': 71527733.0,\n",
       "               'mean_usage': 77075812.58333333,\n",
       "               'max_usage': 127542054,\n",
       "               'min_usage': 34719758,\n",
       "               'frequency': 0.0036519986751401353}),\n",
       "             ('he_PRON',\n",
       "              {'sum_usage': 1810847228,\n",
       "               'median_usage': 71262149.5,\n",
       "               'mean_usage': 75451967.83333333,\n",
       "               'max_usage': 124951118,\n",
       "               'min_usage': 35494257,\n",
       "               'frequency': 0.003575057820715519}),\n",
       "             ('his_PRON',\n",
       "              {'sum_usage': 1851558927,\n",
       "               'median_usage': 74553129.0,\n",
       "               'mean_usage': 77148288.625,\n",
       "               'max_usage': 124103912,\n",
       "               'min_usage': 38573331,\n",
       "               'frequency': 0.003655432727915899}),\n",
       "             ('her_PRON',\n",
       "              {'sum_usage': 1447669080,\n",
       "               'median_usage': 50572505.0,\n",
       "               'mean_usage': 60319545,\n",
       "               'max_usage': 119591264,\n",
       "               'min_usage': 22952375,\n",
       "               'frequency': 0.0028580548299362335}),\n",
       "             ('from_ADP',\n",
       "              {'sum_usage': 2100422280,\n",
       "               'median_usage': 87884541.0,\n",
       "               'mean_usage': 87517595,\n",
       "               'max_usage': 116932302,\n",
       "               'min_usage': 71120083,\n",
       "               'frequency': 0.004146750196709096}),\n",
       "             ('do_VERB',\n",
       "              {'sum_usage': 1825239689,\n",
       "               'median_usage': 73759521.0,\n",
       "               'mean_usage': 76051653.70833333,\n",
       "               'max_usage': 113829106,\n",
       "               'min_usage': 44067762,\n",
       "               'frequency': 0.003603472078672675}),\n",
       "             ('at_ADP',\n",
       "              {'sum_usage': 2013289863,\n",
       "               'median_usage': 85753104.0,\n",
       "               'mean_usage': 83887077.625,\n",
       "               'max_usage': 113356664,\n",
       "               'min_usage': 65073386,\n",
       "               'frequency': 0.003974729374622554}),\n",
       "             ('this_DET',\n",
       "              {'sum_usage': 1803933994,\n",
       "               'median_usage': 75242598.5,\n",
       "               'mean_usage': 75163916.41666667,\n",
       "               'max_usage': 100646514,\n",
       "               'min_usage': 59277374,\n",
       "               'frequency': 0.003561409396433238})])"
      ]
     },
     "execution_count": 17,
     "metadata": {},
     "output_type": "execute_result"
    }
   ],
   "source": [
    "top_max"
   ]
  }
 ],
 "metadata": {
  "kernelspec": {
   "display_name": "Python [conda env:evol-ling]",
   "language": "python",
   "name": "conda-env-evol-ling-py"
  },
  "language_info": {
   "codemirror_mode": {
    "name": "ipython",
    "version": 3
   },
   "file_extension": ".py",
   "mimetype": "text/x-python",
   "name": "python",
   "nbconvert_exporter": "python",
   "pygments_lexer": "ipython3",
   "version": "3.9.7"
  }
 },
 "nbformat": 4,
 "nbformat_minor": 5
}
