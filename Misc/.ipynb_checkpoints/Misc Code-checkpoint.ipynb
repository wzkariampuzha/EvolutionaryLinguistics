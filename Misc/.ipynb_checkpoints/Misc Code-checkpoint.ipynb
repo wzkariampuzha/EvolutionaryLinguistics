{
 "cells": [
  {
   "cell_type": "code",
   "execution_count": null,
   "metadata": {},
   "outputs": [],
   "source": [
    "#!{sys.executable} -m pip install compress-json\n",
    "#gzip encoding\n",
    "import compress_json"
   ]
  },
  {
   "cell_type": "code",
   "execution_count": null,
   "metadata": {},
   "outputs": [],
   "source": [
    "def save_json(ngram_dict,directory,file_path):\n",
    "    output = file_path[:-3]+'-COMPLETE.json.gz'\n",
    "    if len(ngram_dict)>0:\n",
    "        compress_json.dump(ngram_dict, directory+output) # for a gzip file\n",
    "        print('SAVED: ',output,len(ngram_dict))\n",
    "    else:\n",
    "        print('unigram dict empty',output)"
   ]
  },
  {
   "cell_type": "code",
   "execution_count": null,
   "metadata": {},
   "outputs": [],
   "source": [
    "#generator version \n",
    "def open_gzip(directory,file_path):\n",
    "    with gzip.open(directory+file_path,'r') as f_in:\n",
    "        for row in f_in.readlines():\n",
    "            yield row.decode('utf8').strip()\n",
    "        f_in.close()"
   ]
  },
  {
   "cell_type": "code",
   "execution_count": null,
   "metadata": {},
   "outputs": [],
   "source": [
    "def open_gzipped_json(directory,file_name):\n",
    "    return compress_json.load(directory+file_name)"
   ]
  }
 ],
 "metadata": {
  "kernelspec": {
   "display_name": "Python 3",
   "language": "python",
   "name": "python3"
  },
  "language_info": {
   "codemirror_mode": {
    "name": "ipython",
    "version": 3
   },
   "file_extension": ".py",
   "mimetype": "text/x-python",
   "name": "python",
   "nbconvert_exporter": "python",
   "pygments_lexer": "ipython3",
   "version": "3.8.3"
  }
 },
 "nbformat": 4,
 "nbformat_minor": 4
}
